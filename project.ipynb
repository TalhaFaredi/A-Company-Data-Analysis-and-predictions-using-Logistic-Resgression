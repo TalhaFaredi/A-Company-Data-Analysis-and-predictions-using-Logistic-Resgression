{
 "cells": [
  {
   "cell_type": "markdown",
   "metadata": {},
   "source": [
    "## Importing Libraries "
   ]
  },
  {
   "cell_type": "code",
   "execution_count": 2,
   "metadata": {},
   "outputs": [],
   "source": [
    "import numpy as np\n",
    "import pandas as pd"
   ]
  },
  {
   "cell_type": "markdown",
   "metadata": {},
   "source": [
    "## Reading the csv and give columns names "
   ]
  },
  {
   "cell_type": "code",
   "execution_count": 3,
   "metadata": {},
   "outputs": [],
   "source": [
    "df = pd.read_csv('Adult Train.csv', header=None)\n",
    "df = df[0].str.split(', ', expand=True)\n",
    "column_names = ['age', 'workclass', 'fnlwgt', 'education', 'education-num', 'marital-status', 'occupation',\n",
    "                'relationship', 'race', 'sex', 'capital-gain', 'capital-loss', 'hours-per-week', 'native-country', 'income']\n",
    "\n",
    "if len(df.columns) == len(column_names):\n",
    "    df.columns = column_names\n",
    "else:\n",
    "    print(\"Number of columns in the dataset doesn't match the expected number.\")"
   ]
  },
  {
   "cell_type": "markdown",
   "metadata": {},
   "source": [
    "## Checking Null Values"
   ]
  },
  {
   "cell_type": "code",
   "execution_count": 46,
   "metadata": {},
   "outputs": [
    {
     "data": {
      "text/plain": [
       "age               0\n",
       "workclass         0\n",
       "fnlwgt            0\n",
       "education         0\n",
       "education-num     0\n",
       "marital-status    0\n",
       "occupation        0\n",
       "relationship      0\n",
       "race              0\n",
       "sex               0\n",
       "capital-gain      0\n",
       "capital-loss      0\n",
       "hours-per-week    0\n",
       "native-country    0\n",
       "income            0\n",
       "dtype: int64"
      ]
     },
     "execution_count": 46,
     "metadata": {},
     "output_type": "execute_result"
    }
   ],
   "source": [
    "df.isnull().sum()"
   ]
  },
  {
   "cell_type": "markdown",
   "metadata": {},
   "source": [
    "## Droping Irrelevant columns \n",
    "## Drop Educational Num becoz we already have their degree\n",
    "## Targeting the income "
   ]
  },
  {
   "cell_type": "code",
   "execution_count": 4,
   "metadata": {},
   "outputs": [],
   "source": [
    "df.drop(['fnlwgt', 'race', 'capital-gain', 'capital-loss'], axis='columns', inplace=True)\n",
    "df.drop('education-num',axis='columns',inplace=True)\n",
    "target = df['income']\n",
    "input = df.drop('income',axis='columns')\n"
   ]
  },
  {
   "cell_type": "markdown",
   "metadata": {},
   "source": [
    "## Based On Age we make a new column seniority with Young , Middle age and senior person and same for hours per week part time, full time , over time after this deleting age and hours per week column "
   ]
  },
  {
   "cell_type": "code",
   "execution_count": 5,
   "metadata": {},
   "outputs": [],
   "source": [
    "input['age'] = pd.to_numeric(input['age'], errors='coerce')\n",
    "\n",
    "conditions = [\n",
    "    (input['age'] < 25),\n",
    "    (input['age'] >= 25) & (input['age'] <= 60),\n",
    "    (input['age'] > 60)\n",
    "]\n",
    "values = ['Young', 'Middle Age', 'Senior']\n",
    "\n",
    "# Create the 'Seniority' column based on the conditions\n",
    "input['Seniority'] = np.select(conditions, values, default='Unknown')\n",
    "\n",
    "\n",
    "input['hours-per-week'] = pd.to_numeric(input['hours-per-week'], errors='coerce')\n",
    "\n",
    "conditions = [\n",
    "    (input['hours-per-week'] <= 20),\n",
    "    (input['hours-per-week'] > 20) & (input['hours-per-week'] <= 30),\n",
    "    (input['hours-per-week'] > 30)\n",
    "]\n",
    "values = ['Part Time ', 'Full Time', 'Over Time']\n",
    "\n",
    "# Create the 'Seniority' column based on the conditions\n",
    "input['Work_type'] = np.select(conditions, values, default='Unknown')\n",
    "\n"
   ]
  },
  {
   "cell_type": "code",
   "execution_count": 6,
   "metadata": {},
   "outputs": [],
   "source": [
    "input = input.drop(['age', 'hours-per-week'], axis='columns')"
   ]
  },
  {
   "cell_type": "markdown",
   "metadata": {},
   "source": [
    "## Now Mergning martial status , relationshiup, and gender for removing dimension"
   ]
  },
  {
   "cell_type": "code",
   "execution_count": 7,
   "metadata": {},
   "outputs": [],
   "source": [
    "input['marital_relation_sex'] = input['marital-status'] + '_' + input['relationship'] + '_' + input['sex']\n",
    "input = input.drop(['marital-status', 'relationship', 'sex'], axis='columns')\n",
    "\n"
   ]
  },
  {
   "cell_type": "markdown",
   "metadata": {},
   "source": [
    "## Encoding the values and target "
   ]
  },
  {
   "cell_type": "code",
   "execution_count": 8,
   "metadata": {},
   "outputs": [],
   "source": [
    "from sklearn.preprocessing import LabelEncoder\n",
    "\n",
    "# Create an instance of LabelEncoder\n",
    "label_encoder = LabelEncoder()\n",
    "\n",
    "# Perform label encoding on the specified columns\n",
    "input['workclass_encoded'] = label_encoder.fit_transform(input['workclass'])\n",
    "input['education_encoded'] = label_encoder.fit_transform(input['education'])\n",
    "input['occupation_encoded'] = label_encoder.fit_transform(input['occupation'])\n",
    "input['native-country_encoded'] = label_encoder.fit_transform(input['native-country'])\n",
    "input['Seniority_encoded'] = label_encoder.fit_transform(input['Seniority'])\n",
    "input['Work_type_encoded'] = label_encoder.fit_transform(input['Work_type'])\n",
    "input['marital_relation_sex_encoded'] = label_encoder.fit_transform(input['marital_relation_sex'])\n",
    "\n",
    "\n",
    "# Drop the original categorical columns\n",
    "input = input.drop(['workclass', 'education', 'occupation', 'native-country', 'Seniority', 'Work_type', 'marital_relation_sex'], axis='columns')"
   ]
  },
  {
   "cell_type": "code",
   "execution_count": 9,
   "metadata": {},
   "outputs": [],
   "source": [
    "encoded_target = label_encoder.fit_transform(target)\n"
   ]
  },
  {
   "cell_type": "markdown",
   "metadata": {},
   "source": [
    "## Importing Logistic Regression"
   ]
  },
  {
   "cell_type": "code",
   "execution_count": 10,
   "metadata": {},
   "outputs": [],
   "source": [
    "from sklearn.linear_model import LogisticRegression\n",
    "model = LogisticRegression()"
   ]
  },
  {
   "cell_type": "code",
   "execution_count": 11,
   "metadata": {},
   "outputs": [
    {
     "data": {
      "text/html": [
       "<style>#sk-container-id-1 {color: black;}#sk-container-id-1 pre{padding: 0;}#sk-container-id-1 div.sk-toggleable {background-color: white;}#sk-container-id-1 label.sk-toggleable__label {cursor: pointer;display: block;width: 100%;margin-bottom: 0;padding: 0.3em;box-sizing: border-box;text-align: center;}#sk-container-id-1 label.sk-toggleable__label-arrow:before {content: \"▸\";float: left;margin-right: 0.25em;color: #696969;}#sk-container-id-1 label.sk-toggleable__label-arrow:hover:before {color: black;}#sk-container-id-1 div.sk-estimator:hover label.sk-toggleable__label-arrow:before {color: black;}#sk-container-id-1 div.sk-toggleable__content {max-height: 0;max-width: 0;overflow: hidden;text-align: left;background-color: #f0f8ff;}#sk-container-id-1 div.sk-toggleable__content pre {margin: 0.2em;color: black;border-radius: 0.25em;background-color: #f0f8ff;}#sk-container-id-1 input.sk-toggleable__control:checked~div.sk-toggleable__content {max-height: 200px;max-width: 100%;overflow: auto;}#sk-container-id-1 input.sk-toggleable__control:checked~label.sk-toggleable__label-arrow:before {content: \"▾\";}#sk-container-id-1 div.sk-estimator input.sk-toggleable__control:checked~label.sk-toggleable__label {background-color: #d4ebff;}#sk-container-id-1 div.sk-label input.sk-toggleable__control:checked~label.sk-toggleable__label {background-color: #d4ebff;}#sk-container-id-1 input.sk-hidden--visually {border: 0;clip: rect(1px 1px 1px 1px);clip: rect(1px, 1px, 1px, 1px);height: 1px;margin: -1px;overflow: hidden;padding: 0;position: absolute;width: 1px;}#sk-container-id-1 div.sk-estimator {font-family: monospace;background-color: #f0f8ff;border: 1px dotted black;border-radius: 0.25em;box-sizing: border-box;margin-bottom: 0.5em;}#sk-container-id-1 div.sk-estimator:hover {background-color: #d4ebff;}#sk-container-id-1 div.sk-parallel-item::after {content: \"\";width: 100%;border-bottom: 1px solid gray;flex-grow: 1;}#sk-container-id-1 div.sk-label:hover label.sk-toggleable__label {background-color: #d4ebff;}#sk-container-id-1 div.sk-serial::before {content: \"\";position: absolute;border-left: 1px solid gray;box-sizing: border-box;top: 0;bottom: 0;left: 50%;z-index: 0;}#sk-container-id-1 div.sk-serial {display: flex;flex-direction: column;align-items: center;background-color: white;padding-right: 0.2em;padding-left: 0.2em;position: relative;}#sk-container-id-1 div.sk-item {position: relative;z-index: 1;}#sk-container-id-1 div.sk-parallel {display: flex;align-items: stretch;justify-content: center;background-color: white;position: relative;}#sk-container-id-1 div.sk-item::before, #sk-container-id-1 div.sk-parallel-item::before {content: \"\";position: absolute;border-left: 1px solid gray;box-sizing: border-box;top: 0;bottom: 0;left: 50%;z-index: -1;}#sk-container-id-1 div.sk-parallel-item {display: flex;flex-direction: column;z-index: 1;position: relative;background-color: white;}#sk-container-id-1 div.sk-parallel-item:first-child::after {align-self: flex-end;width: 50%;}#sk-container-id-1 div.sk-parallel-item:last-child::after {align-self: flex-start;width: 50%;}#sk-container-id-1 div.sk-parallel-item:only-child::after {width: 0;}#sk-container-id-1 div.sk-dashed-wrapped {border: 1px dashed gray;margin: 0 0.4em 0.5em 0.4em;box-sizing: border-box;padding-bottom: 0.4em;background-color: white;}#sk-container-id-1 div.sk-label label {font-family: monospace;font-weight: bold;display: inline-block;line-height: 1.2em;}#sk-container-id-1 div.sk-label-container {text-align: center;}#sk-container-id-1 div.sk-container {/* jupyter's `normalize.less` sets `[hidden] { display: none; }` but bootstrap.min.css set `[hidden] { display: none !important; }` so we also need the `!important` here to be able to override the default hidden behavior on the sphinx rendered scikit-learn.org. See: https://github.com/scikit-learn/scikit-learn/issues/21755 */display: inline-block !important;position: relative;}#sk-container-id-1 div.sk-text-repr-fallback {display: none;}</style><div id=\"sk-container-id-1\" class=\"sk-top-container\"><div class=\"sk-text-repr-fallback\"><pre>LogisticRegression()</pre><b>In a Jupyter environment, please rerun this cell to show the HTML representation or trust the notebook. <br />On GitHub, the HTML representation is unable to render, please try loading this page with nbviewer.org.</b></div><div class=\"sk-container\" hidden><div class=\"sk-item\"><div class=\"sk-estimator sk-toggleable\"><input class=\"sk-toggleable__control sk-hidden--visually\" id=\"sk-estimator-id-1\" type=\"checkbox\" checked><label for=\"sk-estimator-id-1\" class=\"sk-toggleable__label sk-toggleable__label-arrow\">LogisticRegression</label><div class=\"sk-toggleable__content\"><pre>LogisticRegression()</pre></div></div></div></div></div>"
      ],
      "text/plain": [
       "LogisticRegression()"
      ]
     },
     "execution_count": 11,
     "metadata": {},
     "output_type": "execute_result"
    }
   ],
   "source": [
    "model.fit(input, encoded_target)"
   ]
  },
  {
   "cell_type": "markdown",
   "metadata": {},
   "source": [
    "## Doing the Same preprosessing for testing csv "
   ]
  },
  {
   "cell_type": "code",
   "execution_count": 20,
   "metadata": {},
   "outputs": [],
   "source": [
    "df_test = pd.read_csv('Adult Test.csv', header=None)\n",
    "df_test = df_test[0].str.split(', ', expand=True)\n",
    "column_names = ['age', 'workclass', 'fnlwgt', 'education', 'education-num', 'marital-status', 'occupation',\n",
    "                'relationship', 'race', 'sex', 'capital-gain', 'capital-loss', 'hours-per-week', 'native-country', 'income']\n",
    "if len(df_test.columns) == len(column_names):\n",
    "    df_test.columns = column_names\n",
    "else:\n",
    "    print(\"Number of columns in the dataset doesn't match the expected number.\")\n",
    "\n"
   ]
  },
  {
   "cell_type": "code",
   "execution_count": 21,
   "metadata": {},
   "outputs": [],
   "source": [
    "df_test.drop(['fnlwgt', 'race', 'capital-gain', 'capital-loss'], axis='columns', inplace=True)\n",
    "df_test.drop('education-num',axis='columns',inplace=True)\n",
    "target_test = df_test['income']\n",
    "input_test = df_test.drop('income',axis='columns')\n",
    "\n"
   ]
  },
  {
   "cell_type": "code",
   "execution_count": 22,
   "metadata": {},
   "outputs": [],
   "source": [
    "input_test['age'] = pd.to_numeric(input_test['age'], errors='coerce')\n",
    "\n",
    "conditions = [\n",
    "    (input_test['age'] < 25),\n",
    "    (input_test['age'] >= 25) & (input_test['age'] <= 60),\n",
    "    (input_test['age'] > 60)\n",
    "]\n",
    "values = ['Young', 'Middle Age', 'Senior']\n",
    "\n",
    "input_test['Seniority'] = np.select(conditions, values, default='Unknown')\n",
    "\n",
    "input_test['hours-per-week'] = pd.to_numeric(input_test['hours-per-week'], errors='coerce')\n",
    "\n",
    "conditions = [\n",
    "    (input_test['hours-per-week'] <= 20),\n",
    "    (input_test['hours-per-week'] > 20) & (input_test['hours-per-week'] <= 30),\n",
    "    (input_test['hours-per-week'] > 30)\n",
    "]\n",
    "values = ['Part Time', 'Full Time', 'Over Time']\n",
    "\n",
    "input_test['Work_type'] = np.select(conditions, values, default='Unknown')\n",
    "input_test = input_test.drop(['age', 'hours-per-week'], axis='columns')"
   ]
  },
  {
   "cell_type": "code",
   "execution_count": 24,
   "metadata": {},
   "outputs": [],
   "source": [
    "input_test['marital_relation_sex'] = input_test['marital-status'] + '_' + input_test['relationship'] + '_' + input_test['sex']\n",
    "input_test = input_test.drop(['marital-status', 'relationship', 'sex'], axis='columns')"
   ]
  },
  {
   "cell_type": "code",
   "execution_count": 25,
   "metadata": {},
   "outputs": [],
   "source": [
    "from sklearn.preprocessing import LabelEncoder\n",
    "\n",
    "# Create an instance of LabelEncoder\n",
    "label_encoder = LabelEncoder()\n",
    "\n",
    "# Perform label encoding on the specified columns\n",
    "input_test['workclass_encoded'] = label_encoder.fit_transform(input_test['workclass'])\n",
    "input_test['education_encoded'] = label_encoder.fit_transform(input_test['education'])\n",
    "input_test['occupation_encoded'] = label_encoder.fit_transform(input_test['occupation'])\n",
    "input_test['native-country_encoded'] = label_encoder.fit_transform(input_test['native-country'])\n",
    "input_test['Seniority_encoded'] = label_encoder.fit_transform(input_test['Seniority'])\n",
    "input_test['Work_type_encoded'] = label_encoder.fit_transform(input_test['Work_type'])\n",
    "input_test['marital_relation_sex_encoded'] = label_encoder.fit_transform(input_test['marital_relation_sex'])\n",
    "\n",
    "# Drop the original categorical columns\n",
    "input_test = input_test.drop(['workclass', 'education', 'occupation', 'native-country', 'Seniority', 'Work_type', 'marital_relation_sex'], axis='columns')\n",
    "\n",
    "encoded_target = label_encoder.fit_transform(target_test)\n"
   ]
  },
  {
   "cell_type": "markdown",
   "metadata": {},
   "source": [
    "## Now Predicting the Testing Values"
   ]
  },
  {
   "cell_type": "code",
   "execution_count": 26,
   "metadata": {},
   "outputs": [],
   "source": [
    "predicted = model.predict(input_test)"
   ]
  },
  {
   "cell_type": "markdown",
   "metadata": {},
   "source": [
    "## Checking Confusion MAtrix"
   ]
  },
  {
   "cell_type": "code",
   "execution_count": 27,
   "metadata": {},
   "outputs": [],
   "source": [
    "from sklearn.metrics import confusion_matrix\n",
    "cn = confusion_matrix(predicted,encoded_target)"
   ]
  },
  {
   "cell_type": "code",
   "execution_count": 28,
   "metadata": {},
   "outputs": [
    {
     "data": {
      "text/plain": [
       "Text(95.72222222222221, 0.5, 'Truth')"
      ]
     },
     "execution_count": 28,
     "metadata": {},
     "output_type": "execute_result"
    },
    {
     "data": {
      "image/png": "[encoded data removed]",
      "text/plain": [
       "<Figure size 1000x700 with 2 Axes>"
      ]
     },
     "metadata": {},
     "output_type": "display_data"
    }
   ],
   "source": [
    "%matplotlib inline\n",
    "import matplotlib.pyplot as plt\n",
    "import seaborn as sn\n",
    "plt.figure(figsize=(10,7))\n",
    "sn.heatmap(cn, annot=True)\n",
    "plt.xlabel('Predicted')\n",
    "plt.ylabel('Truth')"
   ]
  },
  {
   "cell_type": "markdown",
   "metadata": {},
   "source": [
    "## Accuracy score"
   ]
  },
  {
   "cell_type": "code",
   "execution_count": 29,
   "metadata": {},
   "outputs": [
    {
     "data": {
      "text/plain": [
       "0.7509366746514342"
      ]
     },
     "execution_count": 29,
     "metadata": {},
     "output_type": "execute_result"
    }
   ],
   "source": [
    "from sklearn.metrics import accuracy_score\n",
    "ac = accuracy_score(predicted,encoded_target)\n",
    "ac"
   ]
  }
 ],
 "metadata": {
  "kernelspec": {
   "display_name": "Python 3",
   "language": "python",
   "name": "python3"
  },
  "language_info": {
   "codemirror_mode": {
    "name": "ipython",
    "version": 3
   },
   "file_extension": ".py",
   "mimetype": "text/x-python",
   "name": "python",
   "nbconvert_exporter": "python",
   "pygments_lexer": "ipython3",
   "version": "3.10.0"
  }
 },
 "nbformat": 4,
 "nbformat_minor": 2
}
